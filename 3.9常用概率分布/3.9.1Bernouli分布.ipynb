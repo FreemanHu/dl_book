{
 "cells": [
  {
   "cell_type": "markdown",
   "metadata": {},
   "source": [
    "$$P(x=1) = \\phi$$\n",
    "$$P(x=0) = 1 - \\phi$$\n",
    "$$P(x) = \\phi^x(1-\\phi)^{1-x}$$\n",
    "$$\\mathbb{E}_x[x]=\\phi$$\n",
    "$$Var_x=\\phi(1-\\phi)$$"
   ]
  },
  {
   "cell_type": "code",
   "execution_count": 15,
   "metadata": {},
   "outputs": [
    {
     "data": {
      "image/png": "[encoded data removed]",
      "text/plain": [
       "<Figure size 432x288 with 1 Axes>"
      ]
     },
     "metadata": {
      "needs_background": "light"
     },
     "output_type": "display_data"
    }
   ],
   "source": [
    "import numpy as np\n",
    "import matplotlib.pyplot as plt\n",
    "\n",
    "# 假设当phi=0.7时\n",
    "phi = 0.3\n",
    "\n",
    "# x取0-1之间100个点\n",
    "x = np.array([0,1])\n",
    "\n",
    "# 计算P的值\n",
    "P = phi ** x * (1 - phi) ** (1 - x)\n",
    "\n",
    "# 画图\n",
    "plt.plot(x,P,'x')\n",
    "plt.ylim(0,1)\n",
    "plt.xlim(-0.5,1.5)\n",
    "plt.show()"
   ]
  },
  {
   "cell_type": "code",
   "execution_count": null,
   "metadata": {},
   "outputs": [],
   "source": []
  }
 ],
 "metadata": {
  "kernelspec": {
   "display_name": "Python 3",
   "language": "python",
   "name": "python3"
  },
  "language_info": {
   "codemirror_mode": {
    "name": "ipython",
    "version": 3
   },
   "file_extension": ".py",
   "mimetype": "text/x-python",
   "name": "python",
   "nbconvert_exporter": "python",
   "pygments_lexer": "ipython3",
   "version": "3.7.6"
  }
 },
 "nbformat": 4,
 "nbformat_minor": 4
}
